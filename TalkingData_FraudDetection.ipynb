{
 "cells": [
  {
   "cell_type": "code",
   "execution_count": 1,
   "metadata": {
    "collapsed": true
   },
   "outputs": [],
   "source": [
    "import pandas as pd\n",
    "import numpy as np\n",
    "import matplotlib.pyplot as plt\n",
    "%matplotlib inline"
   ]
  },
  {
   "cell_type": "code",
   "execution_count": 148,
   "metadata": {
    "collapsed": true
   },
   "outputs": [],
   "source": [
    "train_sample = pd.read_csv(\"train_sample.csv\",parse_dates=[5])"
   ]
  },
  {
   "cell_type": "code",
   "execution_count": 149,
   "metadata": {},
   "outputs": [
    {
     "data": {
      "text/html": [
       "<div>\n",
       "<style>\n",
       "    .dataframe thead tr:only-child th {\n",
       "        text-align: right;\n",
       "    }\n",
       "\n",
       "    .dataframe thead th {\n",
       "        text-align: left;\n",
       "    }\n",
       "\n",
       "    .dataframe tbody tr th {\n",
       "        vertical-align: top;\n",
       "    }\n",
       "</style>\n",
       "<table border=\"1\" class=\"dataframe\">\n",
       "  <thead>\n",
       "    <tr style=\"text-align: right;\">\n",
       "      <th></th>\n",
       "      <th>ip</th>\n",
       "      <th>app</th>\n",
       "      <th>device</th>\n",
       "      <th>os</th>\n",
       "      <th>channel</th>\n",
       "      <th>click_time</th>\n",
       "      <th>attributed_time</th>\n",
       "      <th>is_attributed</th>\n",
       "    </tr>\n",
       "  </thead>\n",
       "  <tbody>\n",
       "    <tr>\n",
       "      <th>0</th>\n",
       "      <td>87540</td>\n",
       "      <td>12</td>\n",
       "      <td>1</td>\n",
       "      <td>13</td>\n",
       "      <td>497</td>\n",
       "      <td>2017-11-07 09:30:38</td>\n",
       "      <td>NaN</td>\n",
       "      <td>0</td>\n",
       "    </tr>\n",
       "    <tr>\n",
       "      <th>1</th>\n",
       "      <td>105560</td>\n",
       "      <td>25</td>\n",
       "      <td>1</td>\n",
       "      <td>17</td>\n",
       "      <td>259</td>\n",
       "      <td>2017-11-07 13:40:27</td>\n",
       "      <td>NaN</td>\n",
       "      <td>0</td>\n",
       "    </tr>\n",
       "    <tr>\n",
       "      <th>2</th>\n",
       "      <td>101424</td>\n",
       "      <td>12</td>\n",
       "      <td>1</td>\n",
       "      <td>19</td>\n",
       "      <td>212</td>\n",
       "      <td>2017-11-07 18:05:24</td>\n",
       "      <td>NaN</td>\n",
       "      <td>0</td>\n",
       "    </tr>\n",
       "    <tr>\n",
       "      <th>3</th>\n",
       "      <td>94584</td>\n",
       "      <td>13</td>\n",
       "      <td>1</td>\n",
       "      <td>13</td>\n",
       "      <td>477</td>\n",
       "      <td>2017-11-07 04:58:08</td>\n",
       "      <td>NaN</td>\n",
       "      <td>0</td>\n",
       "    </tr>\n",
       "    <tr>\n",
       "      <th>4</th>\n",
       "      <td>68413</td>\n",
       "      <td>12</td>\n",
       "      <td>1</td>\n",
       "      <td>1</td>\n",
       "      <td>178</td>\n",
       "      <td>2017-11-09 09:00:09</td>\n",
       "      <td>NaN</td>\n",
       "      <td>0</td>\n",
       "    </tr>\n",
       "  </tbody>\n",
       "</table>\n",
       "</div>"
      ],
      "text/plain": [
       "       ip  app  device  os  channel          click_time attributed_time  \\\n",
       "0   87540   12       1  13      497 2017-11-07 09:30:38             NaN   \n",
       "1  105560   25       1  17      259 2017-11-07 13:40:27             NaN   \n",
       "2  101424   12       1  19      212 2017-11-07 18:05:24             NaN   \n",
       "3   94584   13       1  13      477 2017-11-07 04:58:08             NaN   \n",
       "4   68413   12       1   1      178 2017-11-09 09:00:09             NaN   \n",
       "\n",
       "   is_attributed  \n",
       "0              0  \n",
       "1              0  \n",
       "2              0  \n",
       "3              0  \n",
       "4              0  "
      ]
     },
     "execution_count": 149,
     "metadata": {},
     "output_type": "execute_result"
    }
   ],
   "source": [
    "train_sample.head()"
   ]
  },
  {
   "cell_type": "code",
   "execution_count": 150,
   "metadata": {},
   "outputs": [
    {
     "name": "stdout",
     "output_type": "stream",
     "text": [
      "<class 'pandas.core.frame.DataFrame'>\n",
      "RangeIndex: 100000 entries, 0 to 99999\n",
      "Data columns (total 8 columns):\n",
      "ip                 100000 non-null int64\n",
      "app                100000 non-null int64\n",
      "device             100000 non-null int64\n",
      "os                 100000 non-null int64\n",
      "channel            100000 non-null int64\n",
      "click_time         100000 non-null datetime64[ns]\n",
      "attributed_time    227 non-null object\n",
      "is_attributed      100000 non-null int64\n",
      "dtypes: datetime64[ns](1), int64(6), object(1)\n",
      "memory usage: 6.1+ MB\n"
     ]
    }
   ],
   "source": [
    "train_sample.info()"
   ]
  },
  {
   "cell_type": "code",
   "execution_count": 151,
   "metadata": {},
   "outputs": [
    {
     "data": {
      "text/plain": [
       "Int64Index([280, 245, 107, 477, 134, 259, 265, 153, 178, 121,\n",
       "            ...\n",
       "            410, 455,  15, 114,   4, 261, 498, 465, 474, 451],\n",
       "           dtype='int64', length=161)"
      ]
     },
     "execution_count": 151,
     "metadata": {},
     "output_type": "execute_result"
    }
   ],
   "source": [
    "train_sample.channel.value_counts().index"
   ]
  },
  {
   "cell_type": "code",
   "execution_count": 152,
   "metadata": {},
   "outputs": [
    {
     "data": {
      "text/html": [
       "<div>\n",
       "<style>\n",
       "    .dataframe thead tr:only-child th {\n",
       "        text-align: right;\n",
       "    }\n",
       "\n",
       "    .dataframe thead th {\n",
       "        text-align: left;\n",
       "    }\n",
       "\n",
       "    .dataframe tbody tr th {\n",
       "        vertical-align: top;\n",
       "    }\n",
       "</style>\n",
       "<table border=\"1\" class=\"dataframe\">\n",
       "  <thead>\n",
       "    <tr style=\"text-align: right;\">\n",
       "      <th></th>\n",
       "      <th>ip</th>\n",
       "      <th>app</th>\n",
       "      <th>device</th>\n",
       "      <th>os</th>\n",
       "      <th>channel</th>\n",
       "      <th>click_time</th>\n",
       "      <th>attributed_time</th>\n",
       "      <th>is_attributed</th>\n",
       "    </tr>\n",
       "  </thead>\n",
       "  <tbody>\n",
       "    <tr>\n",
       "      <th>84125</th>\n",
       "      <td>871</td>\n",
       "      <td>12</td>\n",
       "      <td>1</td>\n",
       "      <td>13</td>\n",
       "      <td>178</td>\n",
       "      <td>2017-11-08 10:00:05</td>\n",
       "      <td>NaN</td>\n",
       "      <td>0</td>\n",
       "    </tr>\n",
       "  </tbody>\n",
       "</table>\n",
       "</div>"
      ],
      "text/plain": [
       "        ip  app  device  os  channel          click_time attributed_time  \\\n",
       "84125  871   12       1  13      178 2017-11-08 10:00:05             NaN   \n",
       "\n",
       "       is_attributed  \n",
       "84125              0  "
      ]
     },
     "execution_count": 152,
     "metadata": {},
     "output_type": "execute_result"
    }
   ],
   "source": [
    "train_sample[train_sample.duplicated()]"
   ]
  },
  {
   "cell_type": "code",
   "execution_count": 153,
   "metadata": {},
   "outputs": [
    {
     "data": {
      "text/plain": [
       "ip                          int64\n",
       "app                         int64\n",
       "device                      int64\n",
       "os                          int64\n",
       "channel                     int64\n",
       "click_time         datetime64[ns]\n",
       "attributed_time            object\n",
       "is_attributed               int64\n",
       "dtype: object"
      ]
     },
     "execution_count": 153,
     "metadata": {},
     "output_type": "execute_result"
    }
   ],
   "source": [
    "train_sample.dtypes"
   ]
  },
  {
   "cell_type": "code",
   "execution_count": 154,
   "metadata": {
    "collapsed": true
   },
   "outputs": [],
   "source": [
    "# Converting all integer columns to categorical \n",
    "train_sample[train_sample.columns[train_sample.dtypes!='datetime64[ns]']] = \\\n",
    "train_sample[train_sample.columns[train_sample.dtypes!='datetime64[ns]']].apply(lambda x:x.astype('category'))"
   ]
  },
  {
   "cell_type": "code",
   "execution_count": 155,
   "metadata": {},
   "outputs": [
    {
     "data": {
      "text/plain": [
       "ip                       category\n",
       "app                      category\n",
       "device                   category\n",
       "os                       category\n",
       "channel                  category\n",
       "click_time         datetime64[ns]\n",
       "attributed_time          category\n",
       "is_attributed            category\n",
       "dtype: object"
      ]
     },
     "execution_count": 155,
     "metadata": {},
     "output_type": "execute_result"
    }
   ],
   "source": [
    "train_sample.dtypes"
   ]
  },
  {
   "cell_type": "code",
   "execution_count": 156,
   "metadata": {},
   "outputs": [
    {
     "data": {
      "text/html": [
       "<div>\n",
       "<style>\n",
       "    .dataframe thead tr:only-child th {\n",
       "        text-align: right;\n",
       "    }\n",
       "\n",
       "    .dataframe thead th {\n",
       "        text-align: left;\n",
       "    }\n",
       "\n",
       "    .dataframe tbody tr th {\n",
       "        vertical-align: top;\n",
       "    }\n",
       "</style>\n",
       "<table border=\"1\" class=\"dataframe\">\n",
       "  <thead>\n",
       "    <tr style=\"text-align: right;\">\n",
       "      <th></th>\n",
       "      <th>ip</th>\n",
       "      <th>app</th>\n",
       "      <th>device</th>\n",
       "      <th>os</th>\n",
       "      <th>channel</th>\n",
       "      <th>attributed_time</th>\n",
       "      <th>is_attributed</th>\n",
       "    </tr>\n",
       "  </thead>\n",
       "  <tbody>\n",
       "    <tr>\n",
       "      <th>count</th>\n",
       "      <td>100000</td>\n",
       "      <td>100000</td>\n",
       "      <td>100000</td>\n",
       "      <td>100000</td>\n",
       "      <td>100000</td>\n",
       "      <td>227</td>\n",
       "      <td>100000</td>\n",
       "    </tr>\n",
       "    <tr>\n",
       "      <th>unique</th>\n",
       "      <td>34857</td>\n",
       "      <td>161</td>\n",
       "      <td>100</td>\n",
       "      <td>130</td>\n",
       "      <td>161</td>\n",
       "      <td>227</td>\n",
       "      <td>2</td>\n",
       "    </tr>\n",
       "    <tr>\n",
       "      <th>top</th>\n",
       "      <td>5348</td>\n",
       "      <td>3</td>\n",
       "      <td>1</td>\n",
       "      <td>19</td>\n",
       "      <td>280</td>\n",
       "      <td>2017-11-09 15:28:15</td>\n",
       "      <td>0</td>\n",
       "    </tr>\n",
       "    <tr>\n",
       "      <th>freq</th>\n",
       "      <td>669</td>\n",
       "      <td>18279</td>\n",
       "      <td>94338</td>\n",
       "      <td>23870</td>\n",
       "      <td>8114</td>\n",
       "      <td>1</td>\n",
       "      <td>99773</td>\n",
       "    </tr>\n",
       "  </tbody>\n",
       "</table>\n",
       "</div>"
      ],
      "text/plain": [
       "            ip     app  device      os  channel      attributed_time  \\\n",
       "count   100000  100000  100000  100000   100000                  227   \n",
       "unique   34857     161     100     130      161                  227   \n",
       "top       5348       3       1      19      280  2017-11-09 15:28:15   \n",
       "freq       669   18279   94338   23870     8114                    1   \n",
       "\n",
       "        is_attributed  \n",
       "count          100000  \n",
       "unique              2  \n",
       "top                 0  \n",
       "freq            99773  "
      ]
     },
     "execution_count": 156,
     "metadata": {},
     "output_type": "execute_result"
    }
   ],
   "source": [
    "# describe dataset\n",
    "\n",
    "train_sample.describe(include=['category'])"
   ]
  },
  {
   "cell_type": "code",
   "execution_count": 157,
   "metadata": {},
   "outputs": [
    {
     "data": {
      "image/png": "[encoded data removed]",
      "text/plain": [
       "<matplotlib.figure.Figure at 0x7fbda8cb04a8>"
      ]
     },
     "metadata": {},
     "output_type": "display_data"
    }
   ],
   "source": [
    "train_sample['is_attributed'] = train_sample.is_attributed.astype('int64')\n",
    "\n",
    "# Calculating event rates for top 10 categories\n",
    "\n",
    "fig,axes = plt.subplots(2,2, figsize = (12,9))\n",
    "\n",
    "(train_sample.groupby(['app']).is_attributed.sum().sort_values(ascending = False)*100/train_sample.shape[0])[:10].plot(kind = 'bar',ax = axes[0,0])\n",
    "\n",
    "(train_sample.groupby(['device']).is_attributed.sum().sort_values(ascending = False)*100/train_sample.shape[0])[:10].plot(kind = 'bar',ax = axes[0,1])\n",
    "(train_sample.groupby(['os']).is_attributed.sum().sort_values(ascending = False)*100/train_sample.shape[0])[:10].plot(kind = 'bar',ax = axes[1,0])\n",
    "(train_sample.groupby(['channel']).is_attributed.sum().sort_values(ascending = False)*100/train_sample.shape[0])[:10].plot(kind = 'bar',ax = axes[1,1])\n",
    "plt.show()"
   ]
  },
  {
   "cell_type": "markdown",
   "metadata": {},
   "source": [
    "Variation in event rate for apps, devices, os and channels can be observed. We are only looking at categories with top 10 event rate.\n"
   ]
  },
  {
   "cell_type": "code",
   "execution_count": 158,
   "metadata": {
    "collapsed": true
   },
   "outputs": [],
   "source": [
    "# Creating time based features\n",
    "\n",
    "import datetime as dt\n",
    "\n",
    "train_sample['hour_of_day'] = train_sample.click_time.dt.hour\n",
    "train_sample['dow'] = train_sample.click_time.dt.day\n"
   ]
  },
  {
   "cell_type": "code",
   "execution_count": 159,
   "metadata": {},
   "outputs": [],
   "source": [
    "# Creating number of clicks by ip\n",
    "\n",
    "df_test = pd.concat([train_sample.groupby(['ip']).app.count(),\\\n",
    "          train_sample.groupby(['ip']).is_attributed.sum()],axis = 1)\n",
    "\n",
    "# df_test[(df_test.app==1) & (df_test.is_attributed==1)].sort_values(['app'],ascending = False)"
   ]
  },
  {
   "cell_type": "code",
   "execution_count": 160,
   "metadata": {
    "collapsed": true
   },
   "outputs": [],
   "source": [
    "import datetime as dt"
   ]
  },
  {
   "cell_type": "code",
   "execution_count": 161,
   "metadata": {},
   "outputs": [
    {
     "data": {
      "text/html": [
       "<div>\n",
       "<style>\n",
       "    .dataframe thead tr:only-child th {\n",
       "        text-align: right;\n",
       "    }\n",
       "\n",
       "    .dataframe thead th {\n",
       "        text-align: left;\n",
       "    }\n",
       "\n",
       "    .dataframe tbody tr th {\n",
       "        vertical-align: top;\n",
       "    }\n",
       "</style>\n",
       "<table border=\"1\" class=\"dataframe\">\n",
       "  <thead>\n",
       "    <tr style=\"text-align: right;\">\n",
       "      <th></th>\n",
       "      <th>ip</th>\n",
       "      <th>app</th>\n",
       "      <th>device</th>\n",
       "      <th>os</th>\n",
       "      <th>channel</th>\n",
       "      <th>click_time</th>\n",
       "      <th>attributed_time</th>\n",
       "      <th>is_attributed</th>\n",
       "      <th>hour_of_day</th>\n",
       "      <th>dow</th>\n",
       "      <th>lag_click_time</th>\n",
       "      <th>lag_time_btw_clicks_by_ip</th>\n",
       "    </tr>\n",
       "  </thead>\n",
       "  <tbody>\n",
       "    <tr>\n",
       "      <th>4249</th>\n",
       "      <td>9</td>\n",
       "      <td>9</td>\n",
       "      <td>1</td>\n",
       "      <td>13</td>\n",
       "      <td>244</td>\n",
       "      <td>2017-11-07 16:06:42</td>\n",
       "      <td>NaN</td>\n",
       "      <td>0</td>\n",
       "      <td>16</td>\n",
       "      <td>7</td>\n",
       "      <td>NaT</td>\n",
       "      <td>0.0</td>\n",
       "    </tr>\n",
       "    <tr>\n",
       "      <th>18992</th>\n",
       "      <td>10</td>\n",
       "      <td>11</td>\n",
       "      <td>1</td>\n",
       "      <td>22</td>\n",
       "      <td>319</td>\n",
       "      <td>2017-11-07 01:37:19</td>\n",
       "      <td>NaN</td>\n",
       "      <td>0</td>\n",
       "      <td>1</td>\n",
       "      <td>7</td>\n",
       "      <td>NaT</td>\n",
       "      <td>0.0</td>\n",
       "    </tr>\n",
       "    <tr>\n",
       "      <th>25399</th>\n",
       "      <td>10</td>\n",
       "      <td>12</td>\n",
       "      <td>1</td>\n",
       "      <td>19</td>\n",
       "      <td>140</td>\n",
       "      <td>2017-11-07 07:33:04</td>\n",
       "      <td>NaN</td>\n",
       "      <td>0</td>\n",
       "      <td>7</td>\n",
       "      <td>7</td>\n",
       "      <td>2017-11-07 01:37:19</td>\n",
       "      <td>21345.0</td>\n",
       "    </tr>\n",
       "    <tr>\n",
       "      <th>51193</th>\n",
       "      <td>10</td>\n",
       "      <td>18</td>\n",
       "      <td>1</td>\n",
       "      <td>13</td>\n",
       "      <td>107</td>\n",
       "      <td>2017-11-08 11:19:15</td>\n",
       "      <td>NaN</td>\n",
       "      <td>0</td>\n",
       "      <td>11</td>\n",
       "      <td>8</td>\n",
       "      <td>2017-11-07 07:33:04</td>\n",
       "      <td>99971.0</td>\n",
       "    </tr>\n",
       "    <tr>\n",
       "      <th>10686</th>\n",
       "      <td>19</td>\n",
       "      <td>14</td>\n",
       "      <td>1</td>\n",
       "      <td>16</td>\n",
       "      <td>379</td>\n",
       "      <td>2017-11-08 09:12:26</td>\n",
       "      <td>NaN</td>\n",
       "      <td>0</td>\n",
       "      <td>9</td>\n",
       "      <td>8</td>\n",
       "      <td>NaT</td>\n",
       "      <td>0.0</td>\n",
       "    </tr>\n",
       "  </tbody>\n",
       "</table>\n",
       "</div>"
      ],
      "text/plain": [
       "       ip app device  os channel          click_time attributed_time  \\\n",
       "4249    9   9      1  13     244 2017-11-07 16:06:42             NaN   \n",
       "18992  10  11      1  22     319 2017-11-07 01:37:19             NaN   \n",
       "25399  10  12      1  19     140 2017-11-07 07:33:04             NaN   \n",
       "51193  10  18      1  13     107 2017-11-08 11:19:15             NaN   \n",
       "10686  19  14      1  16     379 2017-11-08 09:12:26             NaN   \n",
       "\n",
       "       is_attributed  hour_of_day  dow      lag_click_time  \\\n",
       "4249               0           16    7                 NaT   \n",
       "18992              0            1    7                 NaT   \n",
       "25399              0            7    7 2017-11-07 01:37:19   \n",
       "51193              0           11    8 2017-11-07 07:33:04   \n",
       "10686              0            9    8                 NaT   \n",
       "\n",
       "       lag_time_btw_clicks_by_ip  \n",
       "4249                         0.0  \n",
       "18992                        0.0  \n",
       "25399                    21345.0  \n",
       "51193                    99971.0  \n",
       "10686                        0.0  "
      ]
     },
     "execution_count": 161,
     "metadata": {},
     "output_type": "execute_result"
    }
   ],
   "source": [
    "# Calculating time from previous click\n",
    "train_sample.sort_values(['ip','click_time'],inplace=True)\n",
    "train_sample['lag_click_time'] = train_sample.groupby(['ip']).click_time.shift(1)\n",
    "train_sample['lag_time_btw_clicks_by_ip'] = train_sample.click_time - train_sample.lag_click_time\n",
    "train_sample['lag_time_btw_clicks_by_ip'].fillna(0,inplace = True)\n",
    "train_sample['lag_time_btw_clicks_by_ip'] = train_sample['lag_time_btw_clicks_by_ip'].dt.total_seconds()\n",
    "train_sample.head(5)"
   ]
  },
  {
   "cell_type": "code",
   "execution_count": 162,
   "metadata": {
    "collapsed": true
   },
   "outputs": [],
   "source": [
    "# calculating running average of inter-click time\n",
    "\n",
    "train_sample['cum_inter_click_time_by_ip'] = train_sample.groupby(['ip']).lag_time_btw_clicks_by_ip.cumsum()\n",
    "train_sample['obs_num'] = 1\n",
    "train_sample['obs_num'] = train_sample.groupby('ip')['obs_num'].cumsum()"
   ]
  },
  {
   "cell_type": "code",
   "execution_count": 163,
   "metadata": {
    "collapsed": true
   },
   "outputs": [],
   "source": [
    "train_sample['obs_num'] = train_sample['obs_num'] - 1\n",
    "train_sample['avg_inter_click_time_by_ip'] = train_sample['cum_inter_click_time_by_ip']/train_sample['obs_num']"
   ]
  },
  {
   "cell_type": "code",
   "execution_count": 164,
   "metadata": {},
   "outputs": [],
   "source": [
    "train_sample['avg_inter_click_time_by_ip'] = train_sample.avg_inter_click_time_by_ip.fillna(0)"
   ]
  },
  {
   "cell_type": "code",
   "execution_count": 165,
   "metadata": {},
   "outputs": [],
   "source": [
    "# Creating indicator feature for first click by IP\n",
    "\n",
    "def first_click(num):\n",
    "    if num==0:\n",
    "        return 1\n",
    "    else:\n",
    "        return 0\n",
    "    \n",
    "train_sample['first_click_by_ip_flag'] = train_sample.obs_num.apply(lambda x: first_click(x))"
   ]
  },
  {
   "cell_type": "code",
   "execution_count": 166,
   "metadata": {},
   "outputs": [],
   "source": [
    "features = ['app', 'device', 'os', 'channel', 'lag_time_btw_clicks_by_ip',\n",
    "            'obs_num', 'avg_inter_click_time_by_ip','first_click_by_ip_flag', 'hour_of_day','dow']\n",
    "\n",
    "cat_features = ['app','device','os','channel','first_click_by_ip_flag', 'hour_of_day', 'dow']\n",
    "num_features = ['lag_click_time','lag_time_btw_clicks_by_ip','obs_num','avg_inter_click_time_by_ip']"
   ]
  },
  {
   "cell_type": "markdown",
   "metadata": {},
   "source": [
    "### Analyzing each variable"
   ]
  },
  {
   "cell_type": "code",
   "execution_count": 167,
   "metadata": {
    "collapsed": true
   },
   "outputs": [],
   "source": [
    "def get_summary(data,cat_var):\n",
    "    print(\"Total number of unique categories: \",data[cat_var].nunique())\n",
    "    \n",
    "    ## Number of applications with 0 installations and getting their distributions\n",
    "    install_count = data.groupby([cat_var]).is_attributed.sum()\n",
    "    print(\"Number of applications with installation clicks: \",\n",
    "      np.where(install_count>0)[0].shape[0])\n",
    "    print(\"List of Applications: \",np.where(install_count>0)[0])\n",
    "    \n",
    "    ## Distribution of installations by apps\n",
    "    install_count.plot(kind = 'hist',bins =40, figsize = (10,7))\n",
    "    plt.title(\"distribution of Installations by \"+cat_var)\n",
    "    plt.show()\n",
    "    \n",
    "    ## Outlier value \n",
    "    max_cat = install_count[install_count ==install_count.max()]\n",
    "    print(cat_var,max_cat.index.values[0],\" has installations of \",max_cat.values[0])\n",
    "    \n",
    "    ## Num of clicks and distribution\n",
    "    \n",
    "    click = data.groupby([cat_var]).ip.count()\n",
    "    click.plot(kind = 'hist',bins =40, figsize = (10,7))\n",
    "    plt.title(\"distribution of Clicks by \"+cat_var)\n",
    "\n",
    "    plt.show()"
   ]
  },
  {
   "cell_type": "code",
   "execution_count": 168,
   "metadata": {},
   "outputs": [
    {
     "name": "stdout",
     "output_type": "stream",
     "text": [
      "Total number of unique categories:  161\n",
      "Number of applications with installation clicks:  37\n",
      "List of Applications:  [  2   4   7   8   9  10  11  14  17  18  19  28  31  33  34  38  42  45\n",
      "  47  53  55  57  64  65  74  75  85  90  93  94  98  99 107 112 131 133\n",
      " 138]\n"
     ]
    },
    {
     "data": {
      "image/png": "[encoded data removed]",
      "text/plain": [
       "<matplotlib.figure.Figure at 0x7fbdb27a3278>"
      ]
     },
     "metadata": {},
     "output_type": "display_data"
    },
    {
     "name": "stdout",
     "output_type": "stream",
     "text": [
      "app 19  has installations of  70\n"
     ]
    },
    {
     "data": {
      "image/png": "[encoded data removed]",
      "text/plain": [
       "<matplotlib.figure.Figure at 0x7fbda79905c0>"
      ]
     },
     "metadata": {},
     "output_type": "display_data"
    }
   ],
   "source": [
    "get_summary(train_sample,cat_var='app')"
   ]
  },
  {
   "cell_type": "code",
   "execution_count": 169,
   "metadata": {},
   "outputs": [
    {
     "name": "stdout",
     "output_type": "stream",
     "text": [
      "Total number of unique categories:  100\n",
      "Number of applications with installation clicks:  25\n",
      "List of Applications:  [ 0  1  2  3  5  9 13 15 16 17 19 21 23 26 28 32 34 37 39 46 48 61 73 74 81]\n"
     ]
    },
    {
     "data": {
      "image/png": "[encoded data removed]",
      "text/plain": [
       "<matplotlib.figure.Figure at 0x7fbda79a64e0>"
      ]
     },
     "metadata": {},
     "output_type": "display_data"
    },
    {
     "name": "stdout",
     "output_type": "stream",
     "text": [
      "device 1  has installations of  146\n"
     ]
    },
    {
     "data": {
      "image/png": "[encoded data removed]",
      "text/plain": [
       "<matplotlib.figure.Figure at 0x7fbda7b271d0>"
      ]
     },
     "metadata": {},
     "output_type": "display_data"
    }
   ],
   "source": [
    "get_summary(train_sample,cat_var='device')"
   ]
  },
  {
   "cell_type": "code",
   "execution_count": 170,
   "metadata": {},
   "outputs": [
    {
     "name": "stdout",
     "output_type": "stream",
     "text": [
      "Total number of unique categories:  130\n",
      "Number of applications with installation clicks:  39\n",
      "List of Applications:  [  0   1   2   3   4   6   7   9  10  12  13  14  15  16  17  18  19  20\n",
      "  21  22  23  24  25  26  27  29  30  31  32  34  35  36  37  42  46  56\n",
      "  58 127 129]\n"
     ]
    },
    {
     "data": {
      "image/png": "[encoded data removed]",
      "text/plain": [
       "<matplotlib.figure.Figure at 0x7fbda7bd8160>"
      ]
     },
     "metadata": {},
     "output_type": "display_data"
    },
    {
     "name": "stdout",
     "output_type": "stream",
     "text": [
      "os 19  has installations of  41\n"
     ]
    },
    {
     "data": {
      "image/png": "[encoded data removed]",
      "text/plain": [
       "<matplotlib.figure.Figure at 0x7fbdb2a4da20>"
      ]
     },
     "metadata": {},
     "output_type": "display_data"
    }
   ],
   "source": [
    "get_summary(train_sample,'os')"
   ]
  },
  {
   "cell_type": "code",
   "execution_count": 171,
   "metadata": {},
   "outputs": [
    {
     "name": "stdout",
     "output_type": "stream",
     "text": [
      "Total number of unique categories:  161\n",
      "Number of applications with installation clicks:  40\n",
      "List of Applications:  [  0   2   8  12  14  18  19  23  24  32  33  38  42  43  47  53  62  70\n",
      "  72  74  77  78  82  89  92  93  94 104 105 119 121 125 126 127 130 141\n",
      " 142 147 154 156]\n"
     ]
    },
    {
     "data": {
      "image/png": "[encoded data removed]",
      "text/plain": [
       "<matplotlib.figure.Figure at 0x7fbdb29eaef0>"
      ]
     },
     "metadata": {},
     "output_type": "display_data"
    },
    {
     "name": "stdout",
     "output_type": "stream",
     "text": [
      "channel 213  has installations of  72\n"
     ]
    },
    {
     "data": {
      "image/png": "[encoded data removed]",
      "text/plain": [
       "<matplotlib.figure.Figure at 0x7fbda8c9dba8>"
      ]
     },
     "metadata": {},
     "output_type": "display_data"
    }
   ],
   "source": [
    "get_summary(train_sample,'channel')"
   ]
  },
  {
   "cell_type": "code",
   "execution_count": 172,
   "metadata": {},
   "outputs": [
    {
     "data": {
      "text/html": [
       "<div>\n",
       "<style>\n",
       "    .dataframe thead tr:only-child th {\n",
       "        text-align: right;\n",
       "    }\n",
       "\n",
       "    .dataframe thead th {\n",
       "        text-align: left;\n",
       "    }\n",
       "\n",
       "    .dataframe tbody tr th {\n",
       "        vertical-align: top;\n",
       "    }\n",
       "</style>\n",
       "<table border=\"1\" class=\"dataframe\">\n",
       "  <thead>\n",
       "    <tr style=\"text-align: right;\">\n",
       "      <th></th>\n",
       "      <th>ip</th>\n",
       "      <th>app</th>\n",
       "      <th>device</th>\n",
       "      <th>os</th>\n",
       "      <th>channel</th>\n",
       "      <th>click_time</th>\n",
       "      <th>attributed_time</th>\n",
       "      <th>is_attributed</th>\n",
       "      <th>hour_of_day</th>\n",
       "      <th>dow</th>\n",
       "      <th>lag_click_time</th>\n",
       "      <th>lag_time_btw_clicks_by_ip</th>\n",
       "      <th>cum_inter_click_time_by_ip</th>\n",
       "      <th>obs_num</th>\n",
       "      <th>avg_inter_click_time_by_ip</th>\n",
       "      <th>first_click_by_ip_flag</th>\n",
       "    </tr>\n",
       "  </thead>\n",
       "  <tbody>\n",
       "    <tr>\n",
       "      <th>4249</th>\n",
       "      <td>9</td>\n",
       "      <td>9</td>\n",
       "      <td>1</td>\n",
       "      <td>13</td>\n",
       "      <td>244</td>\n",
       "      <td>2017-11-07 16:06:42</td>\n",
       "      <td>NaN</td>\n",
       "      <td>0</td>\n",
       "      <td>16</td>\n",
       "      <td>7</td>\n",
       "      <td>NaT</td>\n",
       "      <td>0.0</td>\n",
       "      <td>0.0</td>\n",
       "      <td>0</td>\n",
       "      <td>0.0</td>\n",
       "      <td>1</td>\n",
       "    </tr>\n",
       "    <tr>\n",
       "      <th>18992</th>\n",
       "      <td>10</td>\n",
       "      <td>11</td>\n",
       "      <td>1</td>\n",
       "      <td>22</td>\n",
       "      <td>319</td>\n",
       "      <td>2017-11-07 01:37:19</td>\n",
       "      <td>NaN</td>\n",
       "      <td>0</td>\n",
       "      <td>1</td>\n",
       "      <td>7</td>\n",
       "      <td>NaT</td>\n",
       "      <td>0.0</td>\n",
       "      <td>0.0</td>\n",
       "      <td>0</td>\n",
       "      <td>0.0</td>\n",
       "      <td>1</td>\n",
       "    </tr>\n",
       "    <tr>\n",
       "      <th>25399</th>\n",
       "      <td>10</td>\n",
       "      <td>12</td>\n",
       "      <td>1</td>\n",
       "      <td>19</td>\n",
       "      <td>140</td>\n",
       "      <td>2017-11-07 07:33:04</td>\n",
       "      <td>NaN</td>\n",
       "      <td>0</td>\n",
       "      <td>7</td>\n",
       "      <td>7</td>\n",
       "      <td>2017-11-07 01:37:19</td>\n",
       "      <td>21345.0</td>\n",
       "      <td>21345.0</td>\n",
       "      <td>1</td>\n",
       "      <td>21345.0</td>\n",
       "      <td>0</td>\n",
       "    </tr>\n",
       "    <tr>\n",
       "      <th>51193</th>\n",
       "      <td>10</td>\n",
       "      <td>18</td>\n",
       "      <td>1</td>\n",
       "      <td>13</td>\n",
       "      <td>107</td>\n",
       "      <td>2017-11-08 11:19:15</td>\n",
       "      <td>NaN</td>\n",
       "      <td>0</td>\n",
       "      <td>11</td>\n",
       "      <td>8</td>\n",
       "      <td>2017-11-07 07:33:04</td>\n",
       "      <td>99971.0</td>\n",
       "      <td>121316.0</td>\n",
       "      <td>2</td>\n",
       "      <td>60658.0</td>\n",
       "      <td>0</td>\n",
       "    </tr>\n",
       "    <tr>\n",
       "      <th>10686</th>\n",
       "      <td>19</td>\n",
       "      <td>14</td>\n",
       "      <td>1</td>\n",
       "      <td>16</td>\n",
       "      <td>379</td>\n",
       "      <td>2017-11-08 09:12:26</td>\n",
       "      <td>NaN</td>\n",
       "      <td>0</td>\n",
       "      <td>9</td>\n",
       "      <td>8</td>\n",
       "      <td>NaT</td>\n",
       "      <td>0.0</td>\n",
       "      <td>0.0</td>\n",
       "      <td>0</td>\n",
       "      <td>0.0</td>\n",
       "      <td>1</td>\n",
       "    </tr>\n",
       "  </tbody>\n",
       "</table>\n",
       "</div>"
      ],
      "text/plain": [
       "       ip app device  os channel          click_time attributed_time  \\\n",
       "4249    9   9      1  13     244 2017-11-07 16:06:42             NaN   \n",
       "18992  10  11      1  22     319 2017-11-07 01:37:19             NaN   \n",
       "25399  10  12      1  19     140 2017-11-07 07:33:04             NaN   \n",
       "51193  10  18      1  13     107 2017-11-08 11:19:15             NaN   \n",
       "10686  19  14      1  16     379 2017-11-08 09:12:26             NaN   \n",
       "\n",
       "       is_attributed  hour_of_day  dow      lag_click_time  \\\n",
       "4249               0           16    7                 NaT   \n",
       "18992              0            1    7                 NaT   \n",
       "25399              0            7    7 2017-11-07 01:37:19   \n",
       "51193              0           11    8 2017-11-07 07:33:04   \n",
       "10686              0            9    8                 NaT   \n",
       "\n",
       "       lag_time_btw_clicks_by_ip  cum_inter_click_time_by_ip  obs_num  \\\n",
       "4249                         0.0                         0.0        0   \n",
       "18992                        0.0                         0.0        0   \n",
       "25399                    21345.0                     21345.0        1   \n",
       "51193                    99971.0                    121316.0        2   \n",
       "10686                        0.0                         0.0        0   \n",
       "\n",
       "       avg_inter_click_time_by_ip  first_click_by_ip_flag  \n",
       "4249                          0.0                       1  \n",
       "18992                         0.0                       1  \n",
       "25399                     21345.0                       0  \n",
       "51193                     60658.0                       0  \n",
       "10686                         0.0                       1  "
      ]
     },
     "execution_count": 172,
     "metadata": {},
     "output_type": "execute_result"
    }
   ],
   "source": [
    "# Creating Count-based features for high cardinality features\n",
    "# Example:  Count number of IPs used by each device\n",
    "\n",
    "train_sample.head()"
   ]
  },
  {
   "cell_type": "code",
   "execution_count": 173,
   "metadata": {},
   "outputs": [],
   "source": [
    "X = train_sample[features].copy()\n",
    "y = train_sample.is_attributed.copy()\n"
   ]
  },
  {
   "cell_type": "code",
   "execution_count": 174,
   "metadata": {},
   "outputs": [
    {
     "data": {
      "text/plain": [
       "app                           category\n",
       "device                        category\n",
       "os                            category\n",
       "channel                       category\n",
       "lag_time_btw_clicks_by_ip      float64\n",
       "obs_num                          int64\n",
       "avg_inter_click_time_by_ip     float64\n",
       "first_click_by_ip_flag           int64\n",
       "hour_of_day                      int64\n",
       "dow                              int64\n",
       "dtype: object"
      ]
     },
     "execution_count": 174,
     "metadata": {},
     "output_type": "execute_result"
    }
   ],
   "source": [
    "X.dtypes"
   ]
  },
  {
   "cell_type": "code",
   "execution_count": 175,
   "metadata": {},
   "outputs": [],
   "source": [
    "X['first_click_by_ip_flag'] = X.first_click_by_ip_flag.astype('category')\n",
    "X['hour_of_day'] = X.hour_of_day.astype('category')\n",
    "X['dow'] = X.dow.astype('category')"
   ]
  },
  {
   "cell_type": "code",
   "execution_count": 116,
   "metadata": {
    "collapsed": true
   },
   "outputs": [],
   "source": [
    "X = pd.get_dummies(X)"
   ]
  },
  {
   "cell_type": "code",
   "execution_count": 117,
   "metadata": {},
   "outputs": [],
   "source": [
    "from sklearn.model_selection import train_test_split, GridSearchCV,cross_val_score\n",
    "\n",
    "X_train, X_test, y_train,y_test = train_test_split(X,y,test_size = 0.25,shuffle = True,random_state = 42)"
   ]
  },
  {
   "cell_type": "code",
   "execution_count": 118,
   "metadata": {},
   "outputs": [
    {
     "name": "stderr",
     "output_type": "stream",
     "text": [
      "/home/vinayak/miniconda3/envs/tfdeeplearning/lib/python3.5/site-packages/sklearn/feature_selection/univariate_selection.py:113: UserWarning: Features [ 32  49  67  83  84  91  97 100 102 107 109 111 113 114 115 118 121 123\n",
      " 124 128 132 135 138 141 148 153 154 156 157 158 159 160 161 162 167 180\n",
      " 182 185 186 191 193 195 197 200 205 211 214 215 216 218 219 221 222 225\n",
      " 227 229 230 234 235 238 239 241 242 245 246 247 248 255 263 354 355 356\n",
      " 363 364 366 370 371 375 376 379 380 383 384 388 395 462 508 529 554] are constant.\n",
      "  UserWarning)\n",
      "/home/vinayak/miniconda3/envs/tfdeeplearning/lib/python3.5/site-packages/sklearn/feature_selection/univariate_selection.py:114: RuntimeWarning: invalid value encountered in true_divide\n",
      "  f = msb / msw\n",
      "/home/vinayak/miniconda3/envs/tfdeeplearning/lib/python3.5/site-packages/sklearn/feature_selection/univariate_selection.py:113: UserWarning: Features [ 36  66  74  84  88  91 101 102 106 114 115 118 121 132 133 135 144 145\n",
      " 147 148 155 156 162 163 171 172 174 175 176 191 193 195 199 200 205 206\n",
      " 209 210 211 212 213 216 218 220 223 224 226 229 232 235 237 238 242 244\n",
      " 245 248 255 256 261 345 354 361 362 363 367 369 370 371 373 374 375 376\n",
      " 378 379 380 383 384 385 386 388 462 508 529 539] are constant.\n",
      "  UserWarning)\n",
      "/home/vinayak/miniconda3/envs/tfdeeplearning/lib/python3.5/site-packages/sklearn/feature_selection/univariate_selection.py:114: RuntimeWarning: invalid value encountered in true_divide\n",
      "  f = msb / msw\n",
      "/home/vinayak/miniconda3/envs/tfdeeplearning/lib/python3.5/site-packages/sklearn/feature_selection/univariate_selection.py:113: UserWarning: Features [ 33  72  79  84  89  90  91  94  95 102 104 108 114 115 116 117 118 121\n",
      " 126 129 132 135 140 143 148 151 156 162 181 184 188 191 193 195 198 200\n",
      " 202 203 205 208 211 216 218 228 229 231 233 235 238 240 242 243 245 248\n",
      " 249 250 251 252 253 254 255 258 259 328 330 334 342 351 354 363 370 371\n",
      " 375 376 379 380 383 384 388 389 392 398 413 462 490 508 526 529 530 535] are constant.\n",
      "  UserWarning)\n",
      "/home/vinayak/miniconda3/envs/tfdeeplearning/lib/python3.5/site-packages/sklearn/feature_selection/univariate_selection.py:114: RuntimeWarning: invalid value encountered in true_divide\n",
      "  f = msb / msw\n"
     ]
    },
    {
     "data": {
      "text/plain": [
       "array([ 0.92841416,  0.93507254,  0.91775783])"
      ]
     },
     "execution_count": 118,
     "metadata": {},
     "output_type": "execute_result"
    }
   ],
   "source": [
    "from sklearn.linear_model import LogisticRegression\n",
    "from sklearn.preprocessing import StandardScaler, MinMaxScaler\n",
    "from sklearn.pipeline import make_pipeline\n",
    "from sklearn.metrics import roc_auc_score\n",
    "from sklearn.feature_selection import SelectKBest,f_classif\n",
    "\n",
    "\n",
    "logreg_pipe = make_pipeline(SelectKBest(k=100,score_func = f_classif),StandardScaler(),LogisticRegression())\n",
    "cross_val_score(logreg_pipe,X_train,y_train,scoring = 'roc_auc')"
   ]
  },
  {
   "cell_type": "markdown",
   "metadata": {},
   "source": [
    "### Possible features"
   ]
  },
  {
   "cell_type": "markdown",
   "metadata": {},
   "source": [
    "* count number of clicks by ip \n",
    "* clicks within time interval of an IP. Example: > 10 clicks within 5 mins of an IP --> category\n",
    "* clicks within time interval of an IP. Example: > 10 clicks within 5 mins of an IP --> category\n",
    "* Based on distribution of number of clicks taken to install for an IP create flag\n"
   ]
  }
 ],
 "metadata": {
  "kernelspec": {
   "display_name": "Python 3",
   "language": "python",
   "name": "python3"
  },
  "language_info": {
   "codemirror_mode": {
    "name": "ipython",
    "version": 3
   },
   "file_extension": ".py",
   "mimetype": "text/x-python",
   "name": "python",
   "nbconvert_exporter": "python",
   "pygments_lexer": "ipython3",
   "version": "3.5.4"
  }
 },
 "nbformat": 4,
 "nbformat_minor": 2
}
